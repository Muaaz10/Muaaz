{
 "cells": [
  {
   "cell_type": "markdown",
   "metadata": {},
   "source": [
    "# Task#2 "
   ]
  },
  {
   "cell_type": "code",
   "execution_count": 21,
   "metadata": {},
   "outputs": [],
   "source": [
    "key = 78498\n",
    "sum = 0\n",
    "count = 0"
   ]
  },
  {
   "cell_type": "code",
   "execution_count": null,
   "metadata": {},
   "outputs": [],
   "source": [
    "for i in range (2, 1000000):\n",
    "    count = 0\n",
    "    for n in range (1,i):\n",
    "        if (i % n == 0):\n",
    "            count = 1\n",
    "    if(count == 0 ):\n",
    "        sum = sum + n\n",
    "\n",
    "print(\"Sum is \", sum)        "
   ]
  },
  {
   "cell_type": "markdown",
   "metadata": {},
   "source": [
    "# Task#3"
   ]
  },
  {
   "cell_type": "code",
   "execution_count": null,
   "metadata": {},
   "outputs": [],
   "source": [
    "count1 = 0\n",
    "i = 20\n",
    "sum = 0\n",
    "while (count1 != 11):\n",
    "    count = 0\n",
    "    for n in range (1,i):       #checking is_Prime\n",
    "        if (i % n == 0):\n",
    "            count = 1\n",
    "    if(count == 0 ):\n",
    "        x = i%10\n",
    "        while (x !=0):\n",
    "            for m in range (1,x):\n",
    "                if (i % n == 0):\n",
    "                    count = 1\n",
    "            if(count == 0):\n",
    "                x = i%10\n",
    "            else:\n",
    "                break\n",
    "    if ( count == 0):\n",
    "        sum = sum + i\n",
    "        count1 = count1 + 1\n",
    "    i = i+1\n",
    "print (\"Sum of 11 Prime are: \", sum)"
   ]
  },
  {
   "cell_type": "code",
   "execution_count": null,
   "metadata": {},
   "outputs": [],
   "source": []
  }
 ],
 "metadata": {
  "kernelspec": {
   "display_name": "Python 3",
   "language": "python",
   "name": "python3"
  },
  "language_info": {
   "codemirror_mode": {
    "name": "ipython",
    "version": 3
   },
   "file_extension": ".py",
   "mimetype": "text/x-python",
   "name": "python",
   "nbconvert_exporter": "python",
   "pygments_lexer": "ipython3",
   "version": "3.8.3"
  }
 },
 "nbformat": 4,
 "nbformat_minor": 4
}
