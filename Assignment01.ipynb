{
 "cells": [
  {
   "cell_type": "markdown",
   "metadata": {},
   "source": [
    "# Task#2 "
   ]
  },
  {
   "cell_type": "code",
   "execution_count": 21,
   "metadata": {},
   "outputs": [],
   "source": [
    "key = 78498\n",
    "sum = 0\n",
    "count = 0"
   ]
  },
  {
   "cell_type": "code",
   "execution_count": null,
   "metadata": {},
   "outputs": [],
   "source": [
    "for i in range (2, 1000000):\n",
    "    count = 0\n",
    "    for n in range (1,i):\n",
    "        if (i % n == 0):\n",
    "            count = 1\n",
    "    if(count == 0 ):\n",
    "        sum = sum + n\n",
    "\n",
    "print(\"Sum is \", sum)        "
   ]
  },
  {
   "cell_type": "markdown",
   "metadata": {},
   "source": [
    "# Task#3"
   ]
  },
  {
   "cell_type": "code",
   "execution_count": null,
   "metadata": {},
   "outputs": [],
   "source": [
    "count1 = 0\n",
    "i = 20\n",
    "sum = 0\n",
    "while (count1 != 11):\n",
    "    count = 0\n",
    "    for n in range (1,i):       #checking is_Prime\n",
    "        if (i % n == 0):\n",
    "            count = 1\n",
    "    if(count == 0 ):\n",
    "        x = i%10\n",
    "        while (x !=0):\n",
    "            for m in range (1,x):\n",
    "                if (i % n == 0):\n",
    "                    count = 1\n",
    "            if(count == 0):\n",
    "                x = i%10\n",
    "            else:\n",
    "                break\n",
    "    if ( count == 0):\n",
    "        sum = sum + i\n",
    "        count1 = count1 + 1\n",
    "    i = i+1\n",
    "print (\"Sum of 11 Prime are: \", sum)"
   ]
  },
  {
   "cell_type": "markdown",
   "metadata": {},
   "source": [
    "# Task1"
   ]
  },
  {
   "cell_type": "code",
   "execution_count": 1,
   "metadata": {},
   "outputs": [],
   "source": [
    "def isprime(number):\n",
    "    key = 0\n",
    "    counter = number\n",
    "    counter=int(counter)\n",
    "    for i in range (2,counter):\n",
    "        if number%i==0:\n",
    "            key = 1            \n",
    "            \n",
    "    if key == 0:\n",
    "        return 1\n",
    "    else:\n",
    "        return 0\n",
    "\n",
    "def digitscount(number):\n",
    "    # seperating the digits\n",
    "    digits = 0\n",
    "    \n",
    "    for d in str(number):\n",
    "        digits = digits + 1\n",
    "    \n",
    "    return digits\n",
    "        \n",
    "def rotate(n):\n",
    "    \n",
    "    rem = n % 10; \n",
    "    rem *= pow(10,digitscount(n)-1); \n",
    "    n /= 10; \n",
    "    n += rem;\n",
    "    return int(n);\n",
    "\n",
    "def circularprime():\n",
    "    count = 0\n",
    "    c1 = 0\n",
    "    for i in range (2,11):\n",
    "        if isprime(i) == 1:\n",
    "            count = count + 1\n",
    "    for i in range(11,100):\n",
    "        number = i\n",
    "        key = 0\n",
    "        c1 = 0\n",
    "        counter = digitscount(number)\n",
    "        if isprime(number) == 1:\n",
    "            for j in range (0,counter):\n",
    "                if isprime(number) == 1:\n",
    "                    number = rotate(number)\n",
    "                else:\n",
    "                    c1 = 1\n",
    "            if (c1 != 1):\n",
    "                count = count + 1 \n",
    "         \n",
    "    return count"
   ]
  },
  {
   "cell_type": "markdown",
   "metadata": {},
   "source": [
    "# Task4"
   ]
  },
  {
   "cell_type": "code",
   "execution_count": 2,
   "metadata": {},
   "outputs": [],
   "source": [
    "def ispalindrome(number):\n",
    "    \n",
    "    if reverse_number(number) == number:\n",
    "        return True\n",
    "    else:\n",
    "        return False\n",
    "    \n",
    "def reverse_number(number):\n",
    "    reverse = 0\n",
    "    temp = number\n",
    "    while(number > 0):\n",
    "        digit = number % 10\n",
    "        reverse = reverse*10 + digit\n",
    "        number = number / 10\n",
    "    \n",
    "    return reverse\n",
    "\n",
    "def lychrel_numbers():\n",
    "    count1 = 0\n",
    "    \n",
    "    for i in range(11,10000):\n",
    "        count1 = 0\n",
    "        key = 1 \n",
    "        temporary = i\n",
    "        while(whilecount!=50 and key == 1):\n",
    "            reverse = reverse_number(temporary)\n",
    "            sums = i + reverse\n",
    "            if isplaindrome(sums) == 1:\n",
    "                count = count + 1\n",
    "                key = 0\n",
    "            else:\n",
    "                count1 = count1 + 1\n",
    "            temporary = sums\n",
    "    print(count)"
   ]
  },
  {
   "cell_type": "markdown",
   "metadata": {},
   "source": [
    "# Task 5"
   ]
  },
  {
   "cell_type": "code",
   "execution_count": 3,
   "metadata": {},
   "outputs": [],
   "source": [
    "class queue:\n",
    "    \n",
    "    def __init__(self, maxSize):\n",
    "        self.head = 0\n",
    "        self.tail = 0\n",
    "        self.queue = list()\n",
    "        self.maxSize = maxSize\n",
    "        \n",
    "    def isEmpty():\n",
    "        if self.size() == 0:\n",
    "            return 1\n",
    "        return 0\n",
    "    \n",
    "    def isFull():\n",
    "        if self.size() == (self.maxSize - 1):\n",
    "            return 1\n",
    "        return 0\n",
    "\n",
    "    def enqueue(self,value):\n",
    "        if isFull() == 1:\n",
    "            print(\"Queue is full.. try again\")\n",
    "        else:\n",
    "            self.queue.append(value)\n",
    "            self.tail = (self.tail+1)%self.maxSize\n",
    "            return 1\n",
    "  \n",
    "    def dequeue(self):\n",
    "        if isEmpty() == 1:\n",
    "            return(\"Queue is emptyy\")\n",
    "        \n",
    "        else:\n",
    "            value = self.queue[self.head]\n",
    "            self.head = (self.head+1) % self.maxSize\n",
    "            return value\n",
    "    \n",
    "    def size(self):\n",
    "        if self.tail >= self.head:\n",
    "              return self.tail - self.head\n",
    "        else:\n",
    "              return self.maxSize - (self.head - self.tail)\n",
    "        \n",
    "    def GetFrontValue(self):\n",
    "        return self.queue[self.head]\n"
   ]
  },
  {
   "cell_type": "code",
   "execution_count": 4,
   "metadata": {},
   "outputs": [],
   "source": [
    "def minimumvalue(obj):\n",
    "    min = obj.head\n",
    "    for i in range (0, obj.size()):\n",
    "        if min > i:\n",
    "            min = i\n",
    "            \n",
    "    return min"
   ]
  },
  {
   "cell_type": "code",
   "execution_count": null,
   "metadata": {},
   "outputs": [],
   "source": []
  }
 ],
 "metadata": {
  "kernelspec": {
   "display_name": "Python 3",
   "language": "python",
   "name": "python3"
  },
  "language_info": {
   "codemirror_mode": {
    "name": "ipython",
    "version": 3
   },
   "file_extension": ".py",
   "mimetype": "text/x-python",
   "name": "python",
   "nbconvert_exporter": "python",
   "pygments_lexer": "ipython3",
   "version": "3.8.3"
  }
 },
 "nbformat": 4,
 "nbformat_minor": 4
}
